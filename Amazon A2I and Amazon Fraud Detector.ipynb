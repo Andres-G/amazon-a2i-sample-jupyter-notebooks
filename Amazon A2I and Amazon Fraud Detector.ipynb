{
 "cells": [
  {
   "cell_type": "markdown",
   "metadata": {},
   "source": [
    "# Amazon Augmented AI (Amazon A2I) integration with Amazon Fraud Detector"
   ]
  },
  {
   "cell_type": "markdown",
   "metadata": {},
   "source": [
    "# Visit https://github.com/aws-samples/amazon-a2i-sample-jupyter-notebooks for all A2I Sample Notebooks\n"
   ]
  },
  {
   "cell_type": "markdown",
   "metadata": {},
   "source": [
    "1. [Introduction](#Introduction)\n",
    "2. [Prerequisites](#Setup)\n",
    "    1. [Workteam](#Workteam)\n",
    "    2. [Notebook Permission](#Notebook-Permission)\n",
    "3. [Client Setup](#Client-Setup)\n",
    "4. [Create Control Plane Resources](#Create-Control-Plane-Resources)\n",
    "    1. [Create Human Task UI](#Create-Human-Task-UI)\n",
    "    2. [Create Flow Definition](#Create-Flow-Definition)\n",
    "5. Scenario: When Activation Conditions are met, and a Human Loop is created\n",
    "    1. [Check Status of Human Loop](#Check-Status-of-Human-Loop)\n",
    "    2. [Wait For Workers to Complete Task](#Wait-For-Workers-to-Complete-Task)\n",
    "    3. [Check Status of Human Loop](#Check-Status-of-Human-Loop)\n",
    "    4. [View Task Results](#View-Task-Results)"
   ]
  },
  {
   "cell_type": "markdown",
   "metadata": {},
   "source": [
    "# Introduction\n",
    "\n",
    "Amazon Augmented AI (Amazon A2I) makes it easy to build the workflows required for human review of ML predictions. Amazon A2I brings human review to all developers, removing the undifferentiated heavy lifting associated with building human review systems or managing large numbers of human reviewers. \n",
    "\n",
    "Amazon A2I provides built-in human review workflows for common machine learning use cases, such as content moderation and text extraction from documents, which allows predictions from Amazon Rekognition and Amazon Textract to be reviewed easily. You can also create your own workflows for ML models built on Amazon SageMaker or any other tools. Using Amazon A2I, you can allow human reviewers to step in when a model is unable to make a high confidence prediction or to audit its predictions on an on-going basis. Learn more here: https://aws.amazon.com/augmented-ai/\n",
    "\n",
    "In this tutorial, we will show how you can use Amazon A2I directly with Amazon Fraud Detector to check for high confidence fraud predictions\n",
    "\n",
    "For more in depth instructions, visit https://docs.aws.amazon.com/sagemaker/latest/dg/a2i-getting-started.html"
   ]
  },
  {
   "cell_type": "markdown",
   "metadata": {},
   "source": [
    "To incorporate Amazon A2I into your human review workflows, you need three resources:\n",
    "\n",
    "* A **worker task template** to create a worker UI. The worker UI displays your input data, such as documents or images, and instructions to workers. It also provides interactive tools that the worker uses to complete your tasks. For more information, see https://docs.aws.amazon.com/sagemaker/latest/dg/a2i-instructions-overview.html\n",
    "\n",
    "* A **human review workflow**, also referred to as a flow definition. You use the flow definition to configure your human workforce and provide information about how to accomplish the human review task. For built-in task types, you also use the flow definition to identify the conditions under which a review human loop is triggered.  You can use the flow definition to specify that a model prediction will be sent to a human for review based on the threshold defined by you for Fraud detection. You can create a flow definition in the Amazon Augmented AI console or with the Amazon A2I APIs. To learn more about both of these options, see https://docs.aws.amazon.com/sagemaker/latest/dg/a2i-create-flow-definition.html\n",
    "\n",
    "* A **human loop** to start your human review workflow. When you use one of the built-in task types, the corresponding AWS service creates and starts a human loop on your behalf when the conditions specified in your flow definition are met or for each object if no conditions were specified. When a human loop is triggered, human review tasks are sent to the workers as specified in the flow definition.\n",
    "\n",
    "When using a custom task type, you start a human loop using the Amazon Augmented AI Runtime API. When you call StartHumanLoop in your custom application, a task is sent to human reviewers."
   ]
  },
  {
   "cell_type": "markdown",
   "metadata": {},
   "source": [
    "### Install Latest SDK"
   ]
  },
  {
   "cell_type": "code",
   "execution_count": 1,
   "metadata": {},
   "outputs": [
    {
     "name": "stdout",
     "output_type": "stream",
     "text": [
      "Collecting pip\n",
      "  Downloading pip-21.0.1-py3-none-any.whl (1.5 MB)\n",
      "\u001b[K     |████████████████████████████████| 1.5 MB 14.3 MB/s eta 0:00:01\n",
      "\u001b[?25hInstalling collected packages: pip\n",
      "  Attempting uninstall: pip\n",
      "    Found existing installation: pip 20.0.2\n",
      "    Uninstalling pip-20.0.2:\n",
      "      Successfully uninstalled pip-20.0.2\n",
      "Successfully installed pip-21.0.1\n",
      "Requirement already satisfied: botocore in /home/ec2-user/anaconda3/envs/python3/lib/python3.6/site-packages (1.19.19)\n",
      "Collecting botocore\n",
      "  Downloading botocore-1.20.1-py2.py3-none-any.whl (7.2 MB)\n",
      "\u001b[K     |████████████████████████████████| 7.2 MB 14.1 MB/s eta 0:00:01\n",
      "\u001b[?25hRequirement already satisfied: urllib3<1.27,>=1.25.4 in /home/ec2-user/anaconda3/envs/python3/lib/python3.6/site-packages (from botocore) (1.25.10)\n",
      "Requirement already satisfied: jmespath<1.0.0,>=0.7.1 in /home/ec2-user/anaconda3/envs/python3/lib/python3.6/site-packages (from botocore) (0.10.0)\n",
      "Requirement already satisfied: python-dateutil<3.0.0,>=2.1 in /home/ec2-user/anaconda3/envs/python3/lib/python3.6/site-packages (from botocore) (2.8.1)\n",
      "Requirement already satisfied: six>=1.5 in /home/ec2-user/anaconda3/envs/python3/lib/python3.6/site-packages (from python-dateutil<3.0.0,>=2.1->botocore) (1.14.0)\n",
      "Installing collected packages: botocore\n",
      "  Attempting uninstall: botocore\n",
      "    Found existing installation: botocore 1.19.19\n",
      "    Uninstalling botocore-1.19.19:\n",
      "      Successfully uninstalled botocore-1.19.19\n",
      "\u001b[31mERROR: pip's dependency resolver does not currently take into account all the packages that are installed. This behaviour is the source of the following dependency conflicts.\n",
      "boto3 1.16.19 requires botocore<1.20.0,>=1.19.19, but you have botocore 1.20.1 which is incompatible.\n",
      "awscli 1.18.179 requires botocore==1.19.19, but you have botocore 1.20.1 which is incompatible.\u001b[0m\n",
      "Successfully installed botocore-1.20.1\n",
      "Requirement already satisfied: boto3 in /home/ec2-user/anaconda3/envs/python3/lib/python3.6/site-packages (1.16.19)\n",
      "Collecting boto3\n",
      "  Downloading boto3-1.17.1.tar.gz (100 kB)\n",
      "\u001b[K     |████████████████████████████████| 100 kB 7.8 MB/s eta 0:00:01\n",
      "\u001b[?25hRequirement already satisfied: botocore<1.21.0,>=1.20.1 in /home/ec2-user/anaconda3/envs/python3/lib/python3.6/site-packages (from boto3) (1.20.1)\n",
      "Requirement already satisfied: jmespath<1.0.0,>=0.7.1 in /home/ec2-user/anaconda3/envs/python3/lib/python3.6/site-packages (from boto3) (0.10.0)\n",
      "Requirement already satisfied: s3transfer<0.4.0,>=0.3.0 in /home/ec2-user/anaconda3/envs/python3/lib/python3.6/site-packages (from boto3) (0.3.3)\n",
      "Requirement already satisfied: urllib3<1.27,>=1.25.4 in /home/ec2-user/anaconda3/envs/python3/lib/python3.6/site-packages (from botocore<1.21.0,>=1.20.1->boto3) (1.25.10)\n",
      "Requirement already satisfied: python-dateutil<3.0.0,>=2.1 in /home/ec2-user/anaconda3/envs/python3/lib/python3.6/site-packages (from botocore<1.21.0,>=1.20.1->boto3) (2.8.1)\n",
      "Requirement already satisfied: six>=1.5 in /home/ec2-user/anaconda3/envs/python3/lib/python3.6/site-packages (from python-dateutil<3.0.0,>=2.1->botocore<1.21.0,>=1.20.1->boto3) (1.14.0)\n",
      "Building wheels for collected packages: boto3\n",
      "  Building wheel for boto3 (setup.py) ... \u001b[?25ldone\n",
      "\u001b[?25h  Created wheel for boto3: filename=boto3-1.17.1-py2.py3-none-any.whl size=128761 sha256=a0918d48a299a1678d76821febef7e3635335ba9a92f1e1764d157bbc9c3af94\n",
      "  Stored in directory: /home/ec2-user/.cache/pip/wheels/ba/a6/e6/f53be9d3c23c2d9798acaa93e3bf73950d7c4b78a84e65a6ba\n",
      "Successfully built boto3\n",
      "Installing collected packages: boto3\n",
      "  Attempting uninstall: boto3\n",
      "    Found existing installation: boto3 1.16.19\n",
      "    Uninstalling boto3-1.16.19:\n",
      "      Successfully uninstalled boto3-1.16.19\n",
      "Successfully installed boto3-1.17.1\n",
      "Requirement already satisfied: botocore in /home/ec2-user/anaconda3/envs/python3/lib/python3.6/site-packages (1.20.1)\n",
      "Requirement already satisfied: python-dateutil<3.0.0,>=2.1 in /home/ec2-user/anaconda3/envs/python3/lib/python3.6/site-packages (from botocore) (2.8.1)\n",
      "Requirement already satisfied: jmespath<1.0.0,>=0.7.1 in /home/ec2-user/anaconda3/envs/python3/lib/python3.6/site-packages (from botocore) (0.10.0)\n",
      "Requirement already satisfied: urllib3<1.27,>=1.25.4 in /home/ec2-user/anaconda3/envs/python3/lib/python3.6/site-packages (from botocore) (1.25.10)\n",
      "Requirement already satisfied: six>=1.5 in /home/ec2-user/anaconda3/envs/python3/lib/python3.6/site-packages (from python-dateutil<3.0.0,>=2.1->botocore) (1.14.0)\n"
     ]
    }
   ],
   "source": [
    "# First, let's get the latest installations of our dependencies\n",
    "!pip install --upgrade pip\n",
    "!pip install botocore --upgrade\n",
    "!pip install boto3 --upgrade\n",
    "!pip install -U botocore"
   ]
  },
  {
   "cell_type": "markdown",
   "metadata": {},
   "source": [
    "## Setup\n",
    "We need to set up the following data:\n",
    "* `region` - Region to call A2I\n",
    "* `bucket` - A S3 bucket accessible by the given role\n",
    "    * Used to store the sample images & output results\n",
    "    * Must be within the same region A2I is called from\n",
    "* `role` - The IAM role used as part of StartHumanLoop. By default, this notebook will use the execution role\n",
    "* `workteam` - Group of people to send the work to"
   ]
  },
  {
   "cell_type": "code",
   "execution_count": 2,
   "metadata": {},
   "outputs": [],
   "source": [
    "import boto3\n",
    "import botocore\n",
    "\n",
    "REGION = boto3.session.Session().region_name"
   ]
  },
  {
   "cell_type": "markdown",
   "metadata": {},
   "source": [
    "#### Create and Setup S3 Bucket and Paths\n",
    "Create your own S3 bucket and replace the following with that bucket name "
   ]
  },
  {
   "cell_type": "code",
   "execution_count": 3,
   "metadata": {},
   "outputs": [],
   "source": [
    "# Replace the following with your bucket name\n",
    "BUCKET = '<enter your bucket name>'"
   ]
  },
  {
   "cell_type": "markdown",
   "metadata": {},
   "source": [
    "Your bucket, `BUCKET` must be located in the same AWS Region that you are using to run this notebook. This cell checks if they are located in the same Region. "
   ]
  },
  {
   "cell_type": "code",
   "execution_count": 4,
   "metadata": {},
   "outputs": [],
   "source": [
    "# Amazon S3 (S3) client\n",
    "s3 = boto3.client('s3', REGION)\n",
    "bucket_region = s3.head_bucket(Bucket=BUCKET)['ResponseMetadata']['HTTPHeaders']['x-amz-bucket-region']\n",
    "assert bucket_region == REGION, \"Your S3 bucket {} and this notebook need to be in the same region.\".format(BUCKET)"
   ]
  },
  {
   "cell_type": "markdown",
   "metadata": {},
   "source": [
    "### Notebook Permission\n",
    "\n",
    "The AWS IAM Role used to execute the notebook needs to have the following permissions:\n",
    "\n",
    "* FraudDetectorFullAccess\n",
    "* SagemakerFullAccess\n",
    "* AmazonSageMakerMechanicalTurkAccess (if using MechanicalTurk as your Workforce)\n",
    "* S3 Read and Write Access to the bucket you specified in `BUCKET`. \n"
   ]
  },
  {
   "cell_type": "code",
   "execution_count": 5,
   "metadata": {},
   "outputs": [
    {
     "data": {
      "text/plain": [
       "'arn:aws:iam::820570838999:role/service-role/sgdemo-AmazonSageMaker-ExecutionRole'"
      ]
     },
     "metadata": {},
     "output_type": "display_data"
    }
   ],
   "source": [
    "from sagemaker import get_execution_role\n",
    "\n",
    "# Setting Role to the default SageMaker Execution Role\n",
    "ROLE = get_execution_role()\n",
    "display(ROLE)"
   ]
  },
  {
   "cell_type": "markdown",
   "metadata": {},
   "source": [
    "Visit: https://docs.aws.amazon.com/sagemaker/latest/dg/a2i-permissions-security.html to add the necessary permissions to your role"
   ]
  },
  {
   "cell_type": "markdown",
   "metadata": {},
   "source": [
    "### Workteam or Workforce"
   ]
  },
  {
   "cell_type": "markdown",
   "metadata": {},
   "source": [
    "A workforce is the group of workers that you have selected to label your dataset. You can choose either the Amazon Mechanical Turk workforce, a vendor-managed workforce, or you can create your own private workforce for human reviews. Whichever workforce type you choose, Amazon Augmented AI takes care of sending tasks to workers. \n",
    "\n",
    "When you use a private workforce, you also create work teams, a group of workers from your workforce that are assigned to Amazon Augmented AI human review tasks. You can have multiple work teams and can assign one or more work teams to each job.\n",
    "To create a private workforce using worker emails\n",
    "\n",
    "    Open the SageMaker console at https://console.aws.amazon.com/sagemaker/\n",
    "\n",
    "    .\n",
    "\n",
    "    In the navigation pane, choose Labeling workforces.\n",
    "\n",
    "    Choose Private, then choose Create private team.\n",
    "\n",
    "    Choose Invite new workers by email.\n",
    "\n",
    "    Paste or type a list of up to 50 email addresses, separated by commas, into the email addresses box.\n",
    "\n",
    "    Enter an organization name and contact email.\n",
    "\n",
    "    Optionally, choose an SNS topic to which to subscribe the team so workers are notified by email when new Ground Truth labeling jobs become available. Amazon SNS notifications are supported by Ground Truth and are not supported by Augmented AI. If you subscribe workers to receive SNS notifications, they only receive notifications about Ground Truth labeling jobs. They do not receive notifications about Augmented AI tasks.\n",
    "\n",
    "    Click the Create private team button.\n",
    "\n",
    "After you import your private workforce, refresh the page. On the Private workforce summary page, you can see information about the Amazon Cognito user pool for your workforce, a list of work teams for your workforce, and a list of all of the members of your private workforce. "
   ]
  },
  {
   "cell_type": "markdown",
   "metadata": {},
   "source": [
    "# To create your Workteam, visit the instructions here:\n",
    "https://docs.aws.amazon.com/sagemaker/latest/dg/sms-workforce-create-private-console.html#create-workforce-sm-console\n",
    "NOTE: After you have created your workteam, replace WORKTEAM_ARN below with your own Workteam ARN\n",
    "In the Private workforce summary section, locate your workforce ARN. Your workforce name is located at the end of this ARN. For example, if the ARN is arn:aws:sagemaker:us-east-2:111122223333:workforce/example-workforce, the workforce name is example-workforce.\n"
   ]
  },
  {
   "cell_type": "code",
   "execution_count": 7,
   "metadata": {},
   "outputs": [],
   "source": [
    "WORKTEAM_ARN = \"enter your Workteam ARN\"\n"
   ]
  },
  {
   "cell_type": "markdown",
   "metadata": {},
   "source": [
    "## Client Setup"
   ]
  },
  {
   "cell_type": "markdown",
   "metadata": {},
   "source": [
    "Here we are going to setup the clients. "
   ]
  },
  {
   "cell_type": "code",
   "execution_count": 8,
   "metadata": {},
   "outputs": [
    {
     "data": {
      "text/html": [
       "<style>.container { width:90% }</style>"
      ],
      "text/plain": [
       "<IPython.core.display.HTML object>"
      ]
     },
     "metadata": {},
     "output_type": "display_data"
    }
   ],
   "source": [
    "from IPython.core.display import display, HTML\n",
    "from IPython.display import clear_output\n",
    "display(HTML(\"<style>.container { width:90% }</style>\"))\n",
    "# ------------------------------------------------------------------\n",
    "\n",
    "import numpy as np\n",
    "import matplotlib.pyplot as plt\n",
    "import pandas as pd\n",
    "pd.set_option('display.max_rows', 500)\n",
    "pd.set_option('display.max_columns', 500)\n",
    "pd.set_option('display.width', 1000)\n",
    "\n",
    "import os\n",
    "import sys\n",
    "import time\n",
    "import json\n",
    "import uuid \n",
    "from datetime import datetime\n",
    "import io\n",
    "\n",
    "# -- Client setup -- \n",
    "import boto3\n",
    "import sagemaker\n",
    "\n",
    "# -- sklearn --\n",
    "from sklearn.metrics import roc_curve, roc_auc_score, auc, roc_auc_score\n",
    "%matplotlib inline"
   ]
  },
  {
   "cell_type": "code",
   "execution_count": 9,
   "metadata": {},
   "outputs": [],
   "source": [
    "import pprint\n",
    "\n",
    "# Pretty print setup\n",
    "pp = pprint.PrettyPrinter(indent=2)\n",
    "\n",
    "# Function to pretty-print AWS SDK responses\n",
    "def print_response(response):\n",
    "    if 'ResponseMetadata' in response:\n",
    "        del response['ResponseMetadata']\n",
    "    pp.pprint(response)"
   ]
  },
  {
   "cell_type": "code",
   "execution_count": 10,
   "metadata": {},
   "outputs": [],
   "source": [
    "# Amazon SageMaker client\n",
    "sagemaker = boto3.client('sagemaker', REGION)\n",
    "\n",
    "\n",
    "# Amazon Augmented AI (A2I) Runtime client\n",
    "a2i_runtime_client = boto3.client('sagemaker-a2i-runtime', REGION)\n",
    "\n",
    "\n",
    "# -- initialize the Amazon Fraud Detector client \n",
    "client = boto3.client('frauddetector')"
   ]
  },
  {
   "cell_type": "markdown",
   "metadata": {},
   "source": [
    "# Amazon Fraud Detector Set up"
   ]
  },
  {
   "cell_type": "markdown",
   "metadata": {},
   "source": [
    "To generate fraud predictions, Amazon Fraud Detector uses machine learning models that are trained\n",
    "with your historical fraud data. Each model is trained using a model type, which is a specialized recipe to\n",
    "build a fraud detection model for a specific fraud use case. Deployed models are imported to detectors,\n",
    "where you can configure decision logic (for example, rules) to interpret the model’s score and assign\n",
    "outcomes such as pass or send transaction to a human investigator for review.\n",
    "\n",
    "You can use the AWS Console to create and manage models and detector versions. Alternatively, you can\n",
    "use the AWS Command Line Interface (AWS CLI) or one of the Amazon Fraud Detector SDKs.\n",
    "Amazon Fraud Detector components include events, entities, labels, models, rules, variables, outcomes,\n",
    "and detectors. Using these components, you can build an evaluation that contains your fraud detection\n",
    "logic.\n",
    " "
   ]
  },
  {
   "cell_type": "markdown",
   "metadata": {},
   "source": [
    "### To Create a fraud detector model using the console, please refer to the link below\n",
    " https://docs.aws.amazon.com/frauddetector/latest/ug/frauddetector.pdf\n",
    " \n",
    " ### To Create a fraud detector model using an SDK / Python notebook, please refer to the link below\n",
    "https://github.com/aws-samples/aws-fraud-detector-samples\n",
    "#### NOTE:\n",
    "The following model is create using the default data set provided by Amazon Fraud Detector (at https://docs.aws.amazon.com/frauddetector/latest/ug/samples/training_data.zip)\n",
    "\n",
    "After you create your own Fraud Detector Model, replace the MODEL_NAME, DETECTOR_NAME, EVENT_TYPE and ENTITY_TYPE with your  fraud detector model values\n",
    " "
   ]
  },
  {
   "cell_type": "code",
   "execution_count": 12,
   "metadata": {},
   "outputs": [
    {
     "data": {
      "image/png": "[encoded data removed]",
      "text/plain": [
       "<Figure size 720x720 with 1 Axes>"
      ]
     },
     "metadata": {
      "needs_background": "light"
     },
     "output_type": "display_data"
    }
   ],
   "source": [
    "MODEL_NAME = 'fraud_detection_a2i'\n",
    "DETECTOR_NAME = 'fraud_a2i'\n",
    "EVENT_TYPE = 'fraud-a2i-demo'\n",
    "ENTITY_TYPE = 'applicant'\n",
    "\n",
    "\n",
    "# -- model performance summary -- \n",
    "auc = client.describe_model_versions(\n",
    "    modelId= MODEL_NAME,\n",
    "    modelVersionNumber='1.0',\n",
    "    modelType='ONLINE_FRAUD_INSIGHTS',\n",
    "    maxResults=10\n",
    ")['modelVersionDetails'][0]['trainingResult']['trainingMetrics']['auc']\n",
    "\n",
    "\n",
    "df_model = pd.DataFrame(client.describe_model_versions(\n",
    "    modelId= MODEL_NAME,\n",
    "    modelVersionNumber='1.0',\n",
    "    modelType='ONLINE_FRAUD_INSIGHTS',\n",
    "    maxResults=10\n",
    ")['modelVersionDetails'][0]['trainingResult']['trainingMetrics']['metricDataPoints'])\n",
    "\n",
    "\n",
    "plt.figure(figsize=(10,10))\n",
    "plt.plot(df_model[\"fpr\"], df_model[\"tpr\"], color='darkorange',\n",
    "         lw=2, label='ROC curve (area = %0.3f)' % auc)\n",
    "plt.plot([0, 1], [0, 1], color='navy', lw=2, linestyle='--')\n",
    "plt.xlabel('False Positive Rate')\n",
    "plt.ylabel('True Positive Rate')\n",
    "plt.title( MODEL_NAME + ' ROC Chart')\n",
    "plt.legend(loc=\"lower right\",fontsize=12)\n",
    "plt.axvline(x = 0.02 ,linewidth=2, color='r')\n",
    "plt.axhline(y = 0.73 ,linewidth=2, color='r')\n",
    "plt.show()"
   ]
  },
  {
   "cell_type": "markdown",
   "metadata": {},
   "source": [
    "### Test the fraud detector with a sample data record\n",
    "Using the fraud detector client, invoke the model endpoint with a sample record and examine the results including fraud detection score"
   ]
  },
  {
   "cell_type": "code",
   "execution_count": 13,
   "metadata": {},
   "outputs": [],
   "source": [
    "\n",
    "eventId = uuid.uuid1()\n",
    "timestampStr = '2013-07-16T19:00:00Z'\n",
    "\n",
    "# Construct a sample data record\n",
    "rec = {\n",
    "   'applicant_age': '45',\n",
    "   'applicant_name': 'Robert Moreno',\n",
    "   'closest_emp_office' : 'Apex',\n",
    "   'contact_method' : 'email',\n",
    "   'date_of_birth' : '1/4/92 8:49',\n",
    "   'disabilty_status' :'partial',\n",
    "   'document_type' : 'license',\n",
    "   'email_address' :'fake_gina13@gmail.com',\n",
    "   'est_monthly_inc' : '13375',\n",
    "   'goverment_id' : '342-92-8104',\n",
    "   'ip_address': '68.183.228.102',\n",
    "   'mailing_address' : '399 Brittany Ridges Fake St',\n",
    "   'phone_number': '(555)682 – 9076',\n",
    "   'us_citizen' : 'resident',\n",
    "   'veteran_status' : 'veteran'\n",
    "}\n",
    "\n",
    "\n",
    "pred = client.get_event_prediction(detectorId=DETECTOR_NAME, \n",
    "                                       detectorVersionId='1',\n",
    "                                       eventId = str(eventId),\n",
    "                                       eventTypeName = EVENT_TYPE,\n",
    "                                       eventTimestamp = timestampStr, \n",
    "                                       entities = [{'entityType': ENTITY_TYPE, 'entityId':str(eventId.int)}],\n",
    "                                       eventVariables=rec) "
   ]
  },
  {
   "cell_type": "code",
   "execution_count": 14,
   "metadata": {
    "scrolled": false
   },
   "outputs": [
    {
     "data": {
      "text/plain": [
       "{'modelScores': [{'modelVersion': {'modelId': 'fraud_detection_a2i',\n",
       "    'modelType': 'ONLINE_FRAUD_INSIGHTS',\n",
       "    'modelVersionNumber': '1.0'},\n",
       "   'scores': {'fraud_detection_a2i_insightscore': 994.0}}],\n",
       " 'ruleResults': [{'ruleId': 'high_fraud_risk',\n",
       "   'outcomes': ['verify_customer']}],\n",
       " 'ResponseMetadata': {'RequestId': '1bfcb003-2c71-4c0c-a2ee-96697c3258d6',\n",
       "  'HTTPStatusCode': 200,\n",
       "  'HTTPHeaders': {'date': 'Thu, 04 Feb 2021 15:24:20 GMT',\n",
       "   'content-type': 'application/x-amz-json-1.1',\n",
       "   'content-length': '259',\n",
       "   'connection': 'keep-alive',\n",
       "   'x-amzn-requestid': '1bfcb003-2c71-4c0c-a2ee-96697c3258d6'},\n",
       "  'RetryAttempts': 0}}"
      ]
     },
     "execution_count": 14,
     "metadata": {},
     "output_type": "execute_result"
    }
   ],
   "source": [
    "pred"
   ]
  },
  {
   "cell_type": "code",
   "execution_count": 15,
   "metadata": {},
   "outputs": [
    {
     "data": {
      "text/plain": [
       "994.0"
      ]
     },
     "execution_count": 15,
     "metadata": {},
     "output_type": "execute_result"
    }
   ],
   "source": [
    "# Extract/print the model score\n",
    "pred['modelScores'][0]['scores']['fraud_detection_a2i_insightscore']"
   ]
  },
  {
   "cell_type": "markdown",
   "metadata": {},
   "source": [
    "# Create Control Plane Resources\n",
    "\n",
    "Create Control Plane Resources\n",
    "Create Human Task UI\n",
    "\n",
    "Create a human task UI resource, giving a UI template in liquid html. This template will be rendered to the human workers whenever human loop is required.\n",
    "\n",
    "For over 70 pre built UIs, check: https://github.com/aws-samples/amazon-a2i-sample-task-uis.\n",
    "\n",
    "Here we'll be constructing the following control plane resources: Human Task UI and Flow Definition, using the SageMaker CreateTaskUI and CreateFlowDefinition APIs, respectively.\n",
    "\n",
    "These resources can be created once and used to drive any subsequent A2I human loops.\n",
    "\n",
    "Note: mark if a given prediction is fraudulent, valid claim or needs further investigation"
   ]
  },
  {
   "cell_type": "code",
   "execution_count": 28,
   "metadata": {},
   "outputs": [],
   "source": [
    "template=\"\"\"<script src=\"https://assets.crowd.aws/crowd-html-elements.js\"></script>\n",
    "\n",
    "<crowd-form>\n",
    "      <crowd-classifier\n",
    "          name=\"category\"\n",
    "          categories=\"['Fradulent', 'Valid', 'Needs furthur Investigation']\"\n",
    "          header=\"Select the most relevant category\"\n",
    "      >\n",
    "      <classification-target>\n",
    "        <h3><strong>Risk Score (out of 1000): </strong><span style=\"color: #ff9900;\">{{ task.input.score.fraud_detection_a2i_insightscore}}</span></h3>\n",
    "        <hr>\n",
    "\t<h3> Claim Details </h3>\n",
    "        <p style=\"padding-left: 50px;\"><strong>Applicant age   :  </strong>{{ task.input.taskObject.applicant_age }}</p>\n",
    "        <p style=\"padding-left: 50px;\"><strong>Applicant name  :  </strong>{{ task.input.taskObject.applicant_name }}</p>\n",
    "        <p style=\"padding-left: 50px;\"><strong>Closest Employee Office  :  </strong>{{ task.input.taskObject.closest_emp_office }}</p>\n",
    "        <p style=\"padding-left: 50px;\"><strong>Contact method    :  </strong>{{ task.input.taskObject.contact_method }}</p>\n",
    "        <p style=\"padding-left: 50px;\"><strong>Date of birth  :  </strong>{{ task.input.taskObject.date_of_birth }}</p>\n",
    "        <p style=\"padding-left: 50px;\"><strong>Disabilty status   :  </strong>{{ task.input.taskObject.disabilty_status }}</p>\n",
    "        <p style=\"padding-left: 50px;\"><strong>Document type     :  </strong>{{ task.input.taskObject.document_type }}</p>\n",
    "        <p style=\"padding-left: 50px;\"><strong>Email address  :  </strong>{{ task.input.taskObject.email_address }}</p>\n",
    "        <p style=\"padding-left: 50px;\"><strong>Originating IP  :  </strong>{{ task.input.taskObject.ip_address }}</p>\n",
    "        <p style=\"padding-left: 50px;\"><strong>Phone Number    :  </strong>{{ task.input.taskObject.phone_number }}</p>\n",
    "        <p style=\"padding-left: 50px;\"><strong>mailing_address      :  </strong>{{ task.input.taskObject.mailing_address }}</p>\n",
    "      <p style=\"padding-left: 50px;\"><strong> US Citizen :  </strong>{{ task.input.taskObject.us_citizen }}</p>\n",
    "        <p style=\"padding-left: 50px;\"><strong>Veteran status   :  </strong>{{ task.input.taskObject.veteran_status }}</p>\n",
    "     </classification-target>\n",
    "      \n",
    "      <full-instructions header=\"Data Verification instructions\">\n",
    "         <ol>\n",
    "        <li><strong>Review</strong> Please review the application and documents carefully.</li>\n",
    "        <li>Mark the data as valid or fraudulent</li>\n",
    "      </ol>\n",
    "      </full-instructions>\n",
    "\n",
    "      <short-instructions>\n",
    "       Choose the most relevant category that is expressed by the text. \n",
    "      </short-instructions>\n",
    "    </crowd-classifier>\n",
    "\n",
    "</crowd-form>\n",
    "\"\"\""
   ]
  },
  {
   "cell_type": "code",
   "execution_count": 29,
   "metadata": {},
   "outputs": [],
   "source": [
    "def create_task_ui(task_ui_name, template):\n",
    "    '''\n",
    "    Creates a Human Task UI resource.\n",
    "\n",
    "    Returns:\n",
    "    struct: HumanTaskUiArn\n",
    "    '''\n",
    "    response = sagemaker.create_human_task_ui(\n",
    "        HumanTaskUiName=task_ui_name,\n",
    "        UiTemplate={'Content': template})\n",
    "    return response"
   ]
  },
  {
   "cell_type": "markdown",
   "metadata": {},
   "source": [
    "### Create an Augmented AI task UI"
   ]
  },
  {
   "cell_type": "code",
   "execution_count": 30,
   "metadata": {},
   "outputs": [
    {
     "name": "stdout",
     "output_type": "stream",
     "text": [
      "arn:aws:sagemaker:us-east-1:820570838999:human-task-ui/fraud11511c5c-6703-11eb-a659-9d0ecb5b6d14\n"
     ]
    }
   ],
   "source": [
    "# Task UI name - this value is unique per account and region. You can also provide your own value here.\n",
    "taskUIName = 'fraud'+ str(uuid.uuid1())\n",
    "\n",
    "# Create task UI\n",
    "humanTaskUiResponse = create_task_ui(taskUIName, template)\n",
    "humanTaskUiArn = humanTaskUiResponse['HumanTaskUiArn']\n",
    "print(humanTaskUiArn)"
   ]
  },
  {
   "cell_type": "markdown",
   "metadata": {},
   "source": [
    "# Create the Flow Definition¶\n",
    "\n",
    "In this section, we're going to create a flow definition definition. Flow Definitions allow us to specify:\n",
    "\n",
    "    The workforce that your tasks will be sent to.\n",
    "    The instructions that your workforce will receive. This is called a worker task template.\n",
    "    The configuration of your worker tasks, including the number of workers that receive a task and time limits to complete tasks.\n",
    "    Where your output data will be stored.\n",
    "\n",
    "This demo is going to use the API, but you can optionally create this workflow definition in the console as well.\n",
    "\n",
    "For more details and instructions, see: https://docs.aws.amazon.com/sagemaker/latest/dg/a2i-create-flow-definition.html.\n"
   ]
  },
  {
   "cell_type": "code",
   "execution_count": 31,
   "metadata": {},
   "outputs": [],
   "source": [
    "OUTPUT_PATH = f's3://{BUCKET}/a2i-results'\n",
    "\n",
    "def create_flow_definition(flow_definition_name):\n",
    "    '''\n",
    "    Creates a Flow Definition resource\n",
    "\n",
    "    Returns:\n",
    "    struct: FlowDefinitionArn\n",
    "    '''\n",
    "    response = sagemaker.create_flow_definition(\n",
    "            FlowDefinitionName= flow_definition_name,\n",
    "            RoleArn= ROLE,\n",
    "            HumanLoopConfig= {\n",
    "                \"WorkteamArn\": WORKTEAM_ARN,\n",
    "                \"HumanTaskUiArn\": humanTaskUiArn,\n",
    "                \"TaskCount\": 1,\n",
    "                \"TaskDescription\": \"Please review the  data and flag for potential fraud\",\n",
    "                \"TaskTitle\": \"Review and Approve / Reject Amazon Fraud detector predictions.\"\n",
    "            },\n",
    "            OutputConfig={\n",
    "                \"S3OutputPath\" : OUTPUT_PATH\n",
    "            }\n",
    "        )\n",
    "    \n",
    "    return response['FlowDefinitionArn']"
   ]
  },
  {
   "cell_type": "code",
   "execution_count": 32,
   "metadata": {},
   "outputs": [
    {
     "name": "stdout",
     "output_type": "stream",
     "text": [
      "arn:aws:sagemaker:us-east-1:820570838999:flow-definition/fraud-detector-a2i-1612454942026\n"
     ]
    }
   ],
   "source": [
    "# Flow definition name - this value is unique per account and region. You can also provide your own value here.\n",
    "#uniqueId = str(uuid.uuid4())\n",
    "uniqueId = str(int(round(time.time() * 1000)))\n",
    "flowDefinitionName = f'fraud-detector-a2i-{uniqueId}'\n",
    "#flowDefinitionName = 'fraud-detector-a2i' \n",
    "\n",
    "flowDefinitionArn = create_flow_definition(flowDefinitionName)\n",
    "print(flowDefinitionArn)"
   ]
  },
  {
   "cell_type": "markdown",
   "metadata": {},
   "source": [
    "# Starting Human Loops\n",
    "\n",
    "Now that we have setup our Flow Definition, we are ready to call our Amazon Fraud detector and start our human loops. \n",
    "In this tutorial, we are interested in starting a HumanLoop only if the prediction probability score returned by our model for objects detected is more than risk threshold 900.\n",
    "\n",
    " we will kick off a HumanLoop to engage our workforce for a human review.\n",
    "# Start human loop if the model risk score exceeds a certain treshold"
   ]
  },
  {
   "cell_type": "code",
   "execution_count": 33,
   "metadata": {},
   "outputs": [
    {
     "name": "stdout",
     "output_type": "stream",
     "text": [
      "994.0\n",
      "{\"score\": {\"fraud_detection_a2i_insightscore\": 994.0}, \"taskObject\": {\"applicant_age\": \"45\", \"applicant_name\": \"Robert Moreno\", \"closest_emp_office\": \"Apex\", \"contact_method\": \"email\", \"date_of_birth\": \"1/4/92 8:49\", \"disabilty_status\": \"partial\", \"document_type\": \"license\", \"email_address\": \"fake_gina13@gmail.com\", \"est_monthly_inc\": \"13375\", \"goverment_id\": \"342-92-8104\", \"ip_address\": \"68.183.228.102\", \"mailing_address\": \"399 Brittany Ridges Fake St\", \"phone_number\": \"(555)682 \\u2013 9076\", \"us_citizen\": \"resident\", \"veteran_status\": \"veteran\"}}\n"
     ]
    }
   ],
   "source": [
    "\n",
    "OUTPUT_PATH = f's3://{BUCKET}/a2i-results'\n",
    "\n",
    "FraudScore= pred['modelScores'][0]['scores']['fraud_detection_a2i_insightscore']\n",
    "print(FraudScore)\n",
    "\n",
    "## SET YOUR OWN THRESHOLD HERE\n",
    "SCORE_THRESHOLD  = 900\n",
    "\n",
    "if FraudScore > SCORE_THRESHOLD  :\n",
    "    # Create the human loop input JSON object\n",
    "    humanLoopInput = {\n",
    "        'score' : pred['modelScores'][0]['scores'],\n",
    "        'taskObject': rec\n",
    "    }\n",
    "\n",
    "    print(json.dumps(humanLoopInput))\n",
    "\n",
    "\n"
   ]
  },
  {
   "cell_type": "markdown",
   "metadata": {},
   "source": [
    "# Start human loop"
   ]
  },
  {
   "cell_type": "code",
   "execution_count": 34,
   "metadata": {},
   "outputs": [
    {
     "name": "stdout",
     "output_type": "stream",
     "text": [
      "Starting human loop - Fraud-detector-1612454951724\n"
     ]
    }
   ],
   "source": [
    "humanLoopName = 'Fraud-detector-' + str(int(round(time.time() * 1000)))\n",
    "print('Starting human loop - ' + humanLoopName)\n",
    "\n",
    "response = a2i_runtime_client.start_human_loop(\n",
    "                            HumanLoopName=humanLoopName,\n",
    "                            FlowDefinitionArn= flowDefinitionArn,\n",
    "                            HumanLoopInput={\n",
    "                                'InputContent': json.dumps(humanLoopInput)\n",
    "                                }\n",
    "                            )"
   ]
  },
  {
   "cell_type": "markdown",
   "metadata": {},
   "source": [
    "### Check Status of Human Loop"
   ]
  },
  {
   "cell_type": "code",
   "execution_count": 35,
   "metadata": {},
   "outputs": [
    {
     "name": "stdout",
     "output_type": "stream",
     "text": [
      "\n",
      "Human Loop Name: Fraud-detector-1612454951724\n",
      "Human Loop Status: InProgress \n",
      "\n",
      "\n",
      "\n"
     ]
    }
   ],
   "source": [
    "all_human_loops_in_workflow = a2i_runtime_client.list_human_loops(FlowDefinitionArn=flowDefinitionArn)['HumanLoopSummaries']\n",
    "\n",
    "for human_loop in all_human_loops_in_workflow:\n",
    "    print(f'\\nHuman Loop Name: {human_loop[\"HumanLoopName\"]}')\n",
    "    print(f'Human Loop Status: {human_loop[\"HumanLoopStatus\"]} \\n')\n",
    "    print('\\n')\n"
   ]
  },
  {
   "cell_type": "markdown",
   "metadata": {},
   "source": [
    "# Wait For Workers to Complete Task\n",
    "\n",
    "Since we are using private workteam, we should go to the labling UI to perform the inspection ourselves.\n"
   ]
  },
  {
   "cell_type": "code",
   "execution_count": 36,
   "metadata": {},
   "outputs": [
    {
     "name": "stdout",
     "output_type": "stream",
     "text": [
      "Navigate to the private worker portal and do the tasks. Make sure you've invited yourself to your workteam!\n",
      "https://1ajv1yl4hz.labeling.us-east-1.sagemaker.aws\n"
     ]
    }
   ],
   "source": [
    "workteamName = WORKTEAM_ARN[WORKTEAM_ARN.rfind('/') + 1:]\n",
    "print(\"Navigate to the private worker portal and do the tasks. Make sure you've invited yourself to your workteam!\")\n",
    "print('https://' + sagemaker.describe_workteam(WorkteamName=workteamName)['Workteam']['SubDomain'])"
   ]
  },
  {
   "cell_type": "markdown",
   "metadata": {},
   "source": [
    "### Check Status of Human Loop"
   ]
  },
  {
   "cell_type": "code",
   "execution_count": 37,
   "metadata": {},
   "outputs": [
    {
     "name": "stdout",
     "output_type": "stream",
     "text": [
      "\n",
      "Human Loop Name: Fraud-detector-1612454951724\n",
      "Human Loop Status: Completed \n",
      "\n",
      "\n",
      "\n"
     ]
    }
   ],
   "source": [
    "all_human_loops_in_workflow = a2i_runtime_client.list_human_loops(FlowDefinitionArn=flowDefinitionArn)['HumanLoopSummaries']\n",
    "\n",
    "completed_loops = []\n",
    "for human_loop in all_human_loops_in_workflow:\n",
    "    print(f'\\nHuman Loop Name: {human_loop[\"HumanLoopName\"]}')\n",
    "    print(f'Human Loop Status: {human_loop[\"HumanLoopStatus\"]} \\n')\n",
    "    print('\\n')\n",
    "    if human_loop['HumanLoopStatus'] == 'Completed':\n",
    "        completed_loops.append(human_loop['HumanLoopName'])\n"
   ]
  },
  {
   "cell_type": "code",
   "execution_count": 38,
   "metadata": {},
   "outputs": [
    {
     "name": "stdout",
     "output_type": "stream",
     "text": [
      "['Fraud-detector-1612454951724']\n"
     ]
    }
   ],
   "source": [
    "print(completed_loops)"
   ]
  },
  {
   "cell_type": "markdown",
   "metadata": {},
   "source": [
    "### View Task Results  "
   ]
  },
  {
   "cell_type": "markdown",
   "metadata": {},
   "source": [
    "Once work is completed, Amazon A2I stores results in your S3 bucket and sends a Cloudwatch event. Your results should be available in the S3 OUTPUT_PATH when all work is completed."
   ]
  },
  {
   "cell_type": "code",
   "execution_count": 39,
   "metadata": {},
   "outputs": [
    {
     "name": "stdout",
     "output_type": "stream",
     "text": [
      "\n",
      "Human Loop Name: Fraud-detector-1612454951724\n",
      "Human Loop Status: Completed\n",
      "Human Loop Output Location: : s3://handshake-testing/a2i-results/fraud-detector-a2i-1612454942026/2021/02/04/16/09/11/Fraud-detector-1612454951724/output.json \n",
      "\n",
      "{ 'flowDefinitionArn': 'arn:aws:sagemaker:us-east-1:820570838999:flow-definition/fraud-detector-a2i-1612454942026',\n",
      "  'humanAnswers': [ { 'acceptanceTime': '2021-02-04T16:10:26.376Z',\n",
      "                      'answerContent': { 'category': { 'label': 'Needs furthur '\n",
      "                                                                'Investigation'}},\n",
      "                      'submissionTime': '2021-02-04T16:11:52.561Z',\n",
      "                      'timeSpentInSeconds': 86.185,\n",
      "                      'workerId': '1feea8332bb0cbee',\n",
      "                      'workerMetadata': { 'identityData': { 'identityProviderType': 'Cognito',\n",
      "                                                            'issuer': 'https://cognito-idp.us-east-1.amazonaws.com/us-east-1_776g2W86E',\n",
      "                                                            'sub': '6a9513d6-c329-4821-a567-835c88c32308'}}}],\n",
      "  'humanLoopName': 'Fraud-detector-1612454951724',\n",
      "  'inputContent': { 'score': {'fraud_detection_a2i_insightscore': 994},\n",
      "                    'taskObject': { 'applicant_age': '45',\n",
      "                                    'applicant_name': 'Robert Moreno',\n",
      "                                    'closest_emp_office': 'Apex',\n",
      "                                    'contact_method': 'email',\n",
      "                                    'date_of_birth': '1/4/92 8:49',\n",
      "                                    'disabilty_status': 'partial',\n",
      "                                    'document_type': 'license',\n",
      "                                    'email_address': 'fake_gina13@gmail.com',\n",
      "                                    'est_monthly_inc': '13375',\n",
      "                                    'goverment_id': '342-92-8104',\n",
      "                                    'ip_address': '68.183.228.102',\n",
      "                                    'mailing_address': '399 Brittany Ridges '\n",
      "                                                       'Fake St',\n",
      "                                    'phone_number': '(555)682 – 9076',\n",
      "                                    'us_citizen': 'resident',\n",
      "                                    'veteran_status': 'veteran'}}}\n"
     ]
    }
   ],
   "source": [
    "import re\n",
    "import pprint\n",
    "pp = pprint.PrettyPrinter(indent=2)\n",
    "\n",
    "def retrieve_a2i_results_from_output_s3_uri(bucket, a2i_s3_output_uri):\n",
    "    '''\n",
    "    Gets the json file published by A2I and returns a deserialized object\n",
    "    '''\n",
    "    splitted_string = re.split('s3://' +  bucket + '/', a2i_s3_output_uri)\n",
    "    output_bucket_key = splitted_string[1]\n",
    "\n",
    "    response = s3.get_object(Bucket=bucket, Key=output_bucket_key)\n",
    "    content = response[\"Body\"].read()\n",
    "    return json.loads(content)\n",
    "    \n",
    "\n",
    "for human_loop_name in completed_loops:\n",
    "\n",
    "    describe_human_loop_response = a2i_runtime_client.describe_human_loop(\n",
    "        HumanLoopName=human_loop_name\n",
    "    )\n",
    "    \n",
    "    print(f'\\nHuman Loop Name: {describe_human_loop_response[\"HumanLoopName\"]}')\n",
    "    print(f'Human Loop Status: {describe_human_loop_response[\"HumanLoopStatus\"]}')\n",
    "    print(f'Human Loop Output Location: : {describe_human_loop_response[\"HumanLoopOutput\"][\"OutputS3Uri\"]} \\n')\n",
    "    \n",
    "    # Uncomment below line to print out a2i human answers\n",
    "    pp.pprint(retrieve_a2i_results_from_output_s3_uri(BUCKET, describe_human_loop_response['HumanLoopOutput']['OutputS3Uri']))\n"
   ]
  },
  {
   "cell_type": "markdown",
   "metadata": {},
   "source": [
    "# Cleanup\n",
    "To avoid incurring unnecessary charges, delete the resources used in this\n",
    "walkthrough when not in use. For instructions, see the following:\n",
    "\n",
    "How do I delete an S3 Bucket? https://docs.aws.amazon.com/AmazonS3/latest/user-guide/delete-bucket.html\n",
    "\n",
    "Delete a Flow Definition https://docs.aws.amazon.com/sagemaker/latest/dg/a2i-delete-flow-definition.html\n",
    "\n",
    "Cleanup: SageMaker Resources https://sagemaker-workshop.com/cleanup/sagemaker.html\n",
    "Delete Amazon Fraud detector resources https://docs.aws.amazon.com/frauddetector/latest/ug/delete-detector.html"
   ]
  }
 ],
 "metadata": {
  "kernelspec": {
   "display_name": "conda_python3",
   "language": "python",
   "name": "conda_python3"
  },
  "language_info": {
   "codemirror_mode": {
    "name": "ipython",
    "version": 3
   },
   "file_extension": ".py",
   "mimetype": "text/x-python",
   "name": "python",
   "nbconvert_exporter": "python",
   "pygments_lexer": "ipython3",
   "version": "3.6.10"
  }
 },
 "nbformat": 4,
 "nbformat_minor": 4
}
